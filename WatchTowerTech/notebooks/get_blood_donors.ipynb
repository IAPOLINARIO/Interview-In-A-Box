{
 "cells": [
  {
   "cell_type": "code",
   "execution_count": 1,
   "metadata": {},
   "outputs": [
    {
     "name": "stdout",
     "output_type": "stream",
     "text": [
      "Requirement already satisfied: requests in /opt/conda/lib/python3.11/site-packages (2.31.0)\n",
      "Requirement already satisfied: charset-normalizer<4,>=2 in /opt/conda/lib/python3.11/site-packages (from requests) (3.2.0)\n",
      "Requirement already satisfied: idna<4,>=2.5 in /opt/conda/lib/python3.11/site-packages (from requests) (3.4)\n",
      "Requirement already satisfied: urllib3<3,>=1.21.1 in /opt/conda/lib/python3.11/site-packages (from requests) (2.0.4)\n",
      "Requirement already satisfied: certifi>=2017.4.17 in /opt/conda/lib/python3.11/site-packages (from requests) (2023.7.22)\n",
      "Requirement already satisfied: pandas in /opt/conda/lib/python3.11/site-packages (2.0.3)\n",
      "Requirement already satisfied: python-dateutil>=2.8.2 in /opt/conda/lib/python3.11/site-packages (from pandas) (2.8.2)\n",
      "Requirement already satisfied: pytz>=2020.1 in /opt/conda/lib/python3.11/site-packages (from pandas) (2023.3)\n",
      "Requirement already satisfied: tzdata>=2022.1 in /opt/conda/lib/python3.11/site-packages (from pandas) (2023.3)\n",
      "Requirement already satisfied: numpy>=1.21.0 in /opt/conda/lib/python3.11/site-packages (from pandas) (1.24.4)\n",
      "Requirement already satisfied: six>=1.5 in /opt/conda/lib/python3.11/site-packages (from python-dateutil>=2.8.2->pandas) (1.16.0)\n"
     ]
    }
   ],
   "source": [
    "!pip install requests\n",
    "!pip install pandas"
   ]
  },
  {
   "cell_type": "code",
   "execution_count": 14,
   "metadata": {},
   "outputs": [
    {
     "data": {
      "text/html": [
       "<style type=\"text/css\">\n",
       "#T_acd04 th {\n",
       "  background-color: blue;\n",
       "  color: white;\n",
       "}\n",
       "</style>\n",
       "<table id=\"T_acd04\">\n",
       "  <thead>\n",
       "    <tr>\n",
       "      <th class=\"blank level0\" >&nbsp;</th>\n",
       "      <th id=\"T_acd04_level0_col0\" class=\"col_heading level0 col0\" >blood_type</th>\n",
       "      <th id=\"T_acd04_level0_col1\" class=\"col_heading level0 col1\" >name</th>\n",
       "      <th id=\"T_acd04_level0_col2\" class=\"col_heading level0 col2\" >age</th>\n",
       "      <th id=\"T_acd04_level0_col3\" class=\"col_heading level0 col3\" >phone_number</th>\n",
       "    </tr>\n",
       "  </thead>\n",
       "  <tbody>\n",
       "    <tr>\n",
       "      <th id=\"T_acd04_level0_row0\" class=\"row_heading level0 row0\" >0</th>\n",
       "      <td id=\"T_acd04_row0_col0\" class=\"data row0 col0\" >O+</td>\n",
       "      <td id=\"T_acd04_row0_col1\" class=\"data row0 col1\" >Irma R. Murray</td>\n",
       "      <td id=\"T_acd04_row0_col2\" class=\"data row0 col2\" >26</td>\n",
       "      <td id=\"T_acd04_row0_col3\" class=\"data row0 col3\" >8914720617</td>\n",
       "    </tr>\n",
       "    <tr>\n",
       "      <th id=\"T_acd04_level0_row1\" class=\"row_heading level0 row1\" >1</th>\n",
       "      <td id=\"T_acd04_row1_col0\" class=\"data row1 col0\" >A+</td>\n",
       "      <td id=\"T_acd04_row1_col1\" class=\"data row1 col1\" >Leslie T. Johnson</td>\n",
       "      <td id=\"T_acd04_row1_col2\" class=\"data row1 col2\" >37</td>\n",
       "      <td id=\"T_acd04_row1_col3\" class=\"data row1 col3\" >2574775181</td>\n",
       "    </tr>\n",
       "    <tr>\n",
       "      <th id=\"T_acd04_level0_row2\" class=\"row_heading level0 row2\" >2</th>\n",
       "      <td id=\"T_acd04_row2_col0\" class=\"data row2 col0\" >B+</td>\n",
       "      <td id=\"T_acd04_row2_col1\" class=\"data row2 col1\" >Anthony E. Whittingham</td>\n",
       "      <td id=\"T_acd04_row2_col2\" class=\"data row2 col2\" >45</td>\n",
       "      <td id=\"T_acd04_row2_col3\" class=\"data row2 col3\" >1875106748</td>\n",
       "    </tr>\n",
       "    <tr>\n",
       "      <th id=\"T_acd04_level0_row3\" class=\"row_heading level0 row3\" >3</th>\n",
       "      <td id=\"T_acd04_row3_col0\" class=\"data row3 col0\" >B+</td>\n",
       "      <td id=\"T_acd04_row3_col1\" class=\"data row3 col1\" >Ruth J. Olsen</td>\n",
       "      <td id=\"T_acd04_row3_col2\" class=\"data row3 col2\" >34</td>\n",
       "      <td id=\"T_acd04_row3_col3\" class=\"data row3 col3\" >6612138971</td>\n",
       "    </tr>\n",
       "    <tr>\n",
       "      <th id=\"T_acd04_level0_row4\" class=\"row_heading level0 row4\" >4</th>\n",
       "      <td id=\"T_acd04_row4_col0\" class=\"data row4 col0\" >B+</td>\n",
       "      <td id=\"T_acd04_row4_col1\" class=\"data row4 col1\" >Raquel J. Weeks</td>\n",
       "      <td id=\"T_acd04_row4_col2\" class=\"data row4 col2\" >45</td>\n",
       "      <td id=\"T_acd04_row4_col3\" class=\"data row4 col3\" >8182129895</td>\n",
       "    </tr>\n",
       "  </tbody>\n",
       "</table>\n"
      ],
      "text/plain": [
       "<pandas.io.formats.style.Styler at 0x7f2315fadb90>"
      ]
     },
     "metadata": {},
     "output_type": "display_data"
    }
   ],
   "source": [
    "import requests\n",
    "import json\n",
    "import pandas as pd\n",
    "\n",
    "# Define the API URL\n",
    "url = \"http://app:80/get_blood_donors?blood_type=O%2B\"\n",
    "\n",
    "def print_blood_donors():\n",
    "    response = requests.get(url)\n",
    "\n",
    "    # Check if request was successful\n",
    "    if response.status_code == 200:\n",
    "        data = json.loads(response.text)\n",
    "\n",
    "        # Construct dataframe\n",
    "        rows = []\n",
    "        for item in data:\n",
    "            blood_type = item['blood_type']\n",
    "            for donor in item['donors']:\n",
    "                row = {\n",
    "                    'blood_type': blood_type,\n",
    "                    'name': donor['name'],\n",
    "                    'age': donor['age'],\n",
    "                    'phone_number': donor['phone_number']\n",
    "                }\n",
    "                rows.append(row)\n",
    "\n",
    "        df = pd.DataFrame(rows)\n",
    "        df = df[['blood_type', 'name', 'age', 'phone_number']]\n",
    "    \n",
    "        # Apply formatting\n",
    "        styler = df.style.set_table_styles([\n",
    "            {'selector': 'th', 'props': [('background-color', 'blue'), ('color', 'white')]}\n",
    "        ])\n",
    "        display(styler)\n",
    "\n",
    "# Call the function\n",
    "print_blood_donors()\n"
   ]
  },
  {
   "cell_type": "code",
   "execution_count": null,
   "metadata": {},
   "outputs": [],
   "source": []
  },
  {
   "cell_type": "code",
   "execution_count": null,
   "metadata": {},
   "outputs": [],
   "source": []
  }
 ],
 "metadata": {
  "kernelspec": {
   "display_name": "Python 3 (ipykernel)",
   "language": "python",
   "name": "python3"
  },
  "language_info": {
   "codemirror_mode": {
    "name": "ipython",
    "version": 3
   },
   "file_extension": ".py",
   "mimetype": "text/x-python",
   "name": "python",
   "nbconvert_exporter": "python",
   "pygments_lexer": "ipython3",
   "version": "3.11.4"
  }
 },
 "nbformat": 4,
 "nbformat_minor": 4
}
