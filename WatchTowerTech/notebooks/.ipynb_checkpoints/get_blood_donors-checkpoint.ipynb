{
 "cells": [
  {
   "cell_type": "code",
   "execution_count": 1,
   "metadata": {},
   "outputs": [
    {
     "name": "stdout",
     "output_type": "stream",
     "text": [
      "Requirement already satisfied: requests in /opt/conda/lib/python3.11/site-packages (2.31.0)\n",
      "Requirement already satisfied: charset-normalizer<4,>=2 in /opt/conda/lib/python3.11/site-packages (from requests) (3.2.0)\n",
      "Requirement already satisfied: idna<4,>=2.5 in /opt/conda/lib/python3.11/site-packages (from requests) (3.4)\n",
      "Requirement already satisfied: urllib3<3,>=1.21.1 in /opt/conda/lib/python3.11/site-packages (from requests) (2.0.4)\n",
      "Requirement already satisfied: certifi>=2017.4.17 in /opt/conda/lib/python3.11/site-packages (from requests) (2023.7.22)\n",
      "Requirement already satisfied: pandas in /opt/conda/lib/python3.11/site-packages (2.0.3)\n",
      "Requirement already satisfied: python-dateutil>=2.8.2 in /opt/conda/lib/python3.11/site-packages (from pandas) (2.8.2)\n",
      "Requirement already satisfied: pytz>=2020.1 in /opt/conda/lib/python3.11/site-packages (from pandas) (2023.3)\n",
      "Requirement already satisfied: tzdata>=2022.1 in /opt/conda/lib/python3.11/site-packages (from pandas) (2023.3)\n",
      "Requirement already satisfied: numpy>=1.21.0 in /opt/conda/lib/python3.11/site-packages (from pandas) (1.24.4)\n",
      "Requirement already satisfied: six>=1.5 in /opt/conda/lib/python3.11/site-packages (from python-dateutil>=2.8.2->pandas) (1.16.0)\n"
     ]
    }
   ],
   "source": [
    "!pip install requests\n",
    "!pip install pandas"
   ]
  },
  {
   "cell_type": "code",
   "execution_count": 9,
   "metadata": {},
   "outputs": [
    {
     "name": "stdout",
     "output_type": "stream",
     "text": [
      "blood_type                 name  age phone_number\n",
      "        O+    Ollie H. Richmond   32   0515353371\n",
      "           William M. Zimmerman   44   8005489463\n",
      "               Randy O. Falkner   35   0348148245\n",
      "        B+       Tamera D. Vail   29   5135097444\n",
      "              Bradford L. Maeda   39   2751537346\n"
     ]
    }
   ],
   "source": [
    "import requests\n",
    "import json\n",
    "import pandas as pd\n",
    "\n",
    "# Define the API URL\n",
    "url = \"http://app:80/get_blood_donors?blood_type=O%2B\"\n",
    "\n",
    "def print_blood_donors():\n",
    "    response = requests.get(url)\n",
    "\n",
    "    # Check if request was successful\n",
    "    if response.status_code == 200:\n",
    "        data = json.loads(response.text)\n",
    "\n",
    "        # Construct dataframe\n",
    "        rows = []\n",
    "        prev_blood_type = None\n",
    "        for item in data:\n",
    "            blood_type = item['blood_type']\n",
    "            for donor in item['donors']:\n",
    "                row = {\n",
    "                    'blood_type': blood_type if blood_type != prev_blood_type else '',\n",
    "                    'name': donor['name'],\n",
    "                    'age': donor['age'],\n",
    "                    'phone_number': donor['phone_number']\n",
    "                }\n",
    "                rows.append(row)\n",
    "                prev_blood_type = blood_type\n",
    "\n",
    "    df = pd.DataFrame(rows)\n",
    "    df = df[['blood_type', 'name', 'age', 'phone_number']]\n",
    "\n",
    "    # Apply formatting\n",
    "    def highlight_cells(val):\n",
    "        color = 'grey' if val != '' else 'white'\n",
    "        return 'background-color: %s' % color\n",
    "\n",
    "    styler = df.style.applymap(highlight_cells, subset=['blood_type'])\n",
    "    display(styler.set_table_styles([\n",
    "        {'selector': 'th', 'props': [('background-color', 'blue'), ('color', 'white')]}\n",
    "    ]))\n",
    "\n",
    "# Call the function\n",
    "print_blood_donors()"
   ]
  },
  {
   "cell_type": "code",
   "execution_count": null,
   "metadata": {},
   "outputs": [],
   "source": []
  },
  {
   "cell_type": "code",
   "execution_count": null,
   "metadata": {},
   "outputs": [],
   "source": []
  }
 ],
 "metadata": {
  "kernelspec": {
   "display_name": "Python 3 (ipykernel)",
   "language": "python",
   "name": "python3"
  },
  "language_info": {
   "codemirror_mode": {
    "name": "ipython",
    "version": 3
   },
   "file_extension": ".py",
   "mimetype": "text/x-python",
   "name": "python",
   "nbconvert_exporter": "python",
   "pygments_lexer": "ipython3",
   "version": "3.11.4"
  }
 },
 "nbformat": 4,
 "nbformat_minor": 4
}
